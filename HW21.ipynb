{
  "nbformat": 4,
  "nbformat_minor": 0,
  "metadata": {
    "colab": {
      "provenance": [],
      "authorship_tag": "ABX9TyNQ9WCFKDRfgF0djOGgBnVu",
      "include_colab_link": true
    },
    "kernelspec": {
      "name": "python3",
      "display_name": "Python 3"
    },
    "language_info": {
      "name": "python"
    }
  },
  "cells": [
    {
      "cell_type": "markdown",
      "metadata": {
        "id": "view-in-github",
        "colab_type": "text"
      },
      "source": [
        "<a href=\"https://colab.research.google.com/github/rileyseefeldt/MAT421/blob/main/HW21.ipynb\" target=\"_parent\"><img src=\"https://colab.research.google.com/assets/colab-badge.svg\" alt=\"Open In Colab\"/></a>"
      ]
    },
    {
      "cell_type": "markdown",
      "source": [
        "#Chapter 21 Numerical Integration"
      ],
      "metadata": {
        "id": "Gi_T7aWu3qED"
      }
    },
    {
      "cell_type": "markdown",
      "source": [
        "##21.1 Numerical Integration Problem Statement"
      ],
      "metadata": {
        "id": "lyMv-51j36C6"
      }
    },
    {
      "cell_type": "markdown",
      "source": [
        "Oftentimes real life data is non-continuous and often has intervals or steps where a fucntion is undefined due to many reasons (ie timed sensor readings). Numerical integration is about approximating the integral of these \"step\" functions to an acceptable level of precision."
      ],
      "metadata": {
        "id": "--St-INS39nE"
      }
    },
    {
      "cell_type": "markdown",
      "source": [
        "##21.2 Riemanns Integral"
      ],
      "metadata": {
        "id": "SMKt7U0r5N7t"
      }
    },
    {
      "cell_type": "markdown",
      "source": [
        "The easiest way to approximate an integral for \"step\" functions is to create rectangles with the width (h) of each step in the function.  The height of these rectangles can be determined in three different ways. 1. The value of the function to the left of the gap 2. the value of the funciton to the right of the gap 3. Taking the average of those two values.\n",
        "\n",
        "The formula for summing up the areas of these rectangles (and finding the value of the integral) is given by:\n",
        "\n",
        "![image.png](data:image/png;base64,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)"
      ],
      "metadata": {
        "id": "xOSdURsL5Vbp"
      }
    },
    {
      "cell_type": "code",
      "execution_count": 8,
      "metadata": {
        "id": "FCVGm9VI27O3",
        "colab": {
          "base_uri": "https://localhost:8080/"
        },
        "outputId": "5959ac74-4190-47e6-ec6c-caf012c72054"
      },
      "outputs": [
        {
          "output_type": "stream",
          "name": "stdout",
          "text": [
            "Exact Integral: 0.746824\n",
            "Left Riemann Sum: 0.777817, Error: -0.030993\n",
            "Right Riemann Sum: 0.714605, Error: 0.032219\n",
            "Midpoint Riemann Sum: 0.747131, Error: -0.000307\n"
          ]
        }
      ],
      "source": [
        "import numpy as np\n",
        "from scipy.integrate import quad\n",
        "\n",
        "#function e^(x^2)\n",
        "def f(x):\n",
        "    return np.exp(-x**2)  # Function: e^(-x^2)\n",
        "\n",
        "#bounds\n",
        "a, b = 0, 1\n",
        "#num points\n",
        "n = 11\n",
        "#step size\n",
        "h = (b - a) / (n - 1)\n",
        "#generates n x values\n",
        "x = np.linspace(a, b, n)\n",
        "#computes function at those values\n",
        "f_values = f(x)\n",
        "\n",
        "#compute rienmann sums\n",
        "#left sum\n",
        "I_riemannL = h * np.sum(f_values[:-1])\n",
        "#right\n",
        "I_riemannR = h * np.sum(f_values[1:])\n",
        "#middle\n",
        "I_mid = h * np.sum(f((x[:-1] + x[1:]) / 2))\n",
        "#finds exact integral value with library function\n",
        "exact_integral, _ = quad(f,a,b)\n",
        "\n",
        "#finds errors between expected and computed values\n",
        "err_riemannL = exact_integral - I_riemannL\n",
        "err_riemannR = exact_integral - I_riemannR\n",
        "err_mid = exact_integral - I_mid\n",
        "\n",
        "print(f\"Exact Integral: {exact_integral:.6f}\")\n",
        "print(f\"Left Riemann Sum: {I_riemannL:.6f}, Error: {err_riemannL:.6f}\")\n",
        "print(f\"Right Riemann Sum: {I_riemannR:.6f}, Error: {err_riemannR:.6f}\")\n",
        "print(f\"Midpoint Riemann Sum: {I_mid:.6f}, Error: {err_mid:.6f}\")\n"
      ]
    },
    {
      "cell_type": "markdown",
      "source": [
        "##21.3 Trapezoid Rule"
      ],
      "metadata": {
        "id": "F6N2llBg-DHI"
      }
    },
    {
      "cell_type": "markdown",
      "source": [
        "The trapezoid rule aims to approximate the value of an integral using trapezoids for each subinterval instead of rectangles. For each subinteral the trapezoids corners exist at: (xi,0),(xi+1,0),(xi,f(xi)), and (xi+1,f(xi+1)). The formula for summing up all the trapezoids in the function (and finding the value of the integral) is:\n",
        "\n",
        "![image.png](data:image/png;base64,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)"
      ],
      "metadata": {
        "id": "wR-Q3MDn-KgI"
      }
    },
    {
      "cell_type": "code",
      "source": [
        "import numpy as np\n",
        "from scipy.integrate import quad\n",
        "\n",
        "#same function as before e^x^2\n",
        "def f(x):\n",
        "    return np.exp(-x**2)  # Function: e^(-x^2)\n",
        "\n",
        "\n",
        "a, b = 0, 1\n",
        "n = 11  #\n",
        "h = (b - a) / (n - 1)\n",
        "x = np.linspace(a, b, n)\n",
        "f_values = f(x)\n",
        "\n",
        "#computes trapezoid integral\n",
        "I_trap = (h / 2) * (f_values[0] + 2 * np.sum(f_values[1:n-1]) + f_values[n-1])\n",
        "\n",
        "#finds exact value\n",
        "exact_integral, _ = quad(f, a, b)\n",
        "\n",
        "#finds error\n",
        "err_trap = exact_integral - I_trap\n",
        "\n",
        "print(f\"Trapezoidal Rule Integral: {I_trap:.6f}\")\n",
        "print(f\"Error: {err_trap:.6f}\")\n"
      ],
      "metadata": {
        "colab": {
          "base_uri": "https://localhost:8080/"
        },
        "id": "94kenI1W_B-M",
        "outputId": "b6fa2e7f-b02f-4d6c-9b17-869c1c683870"
      },
      "execution_count": 9,
      "outputs": [
        {
          "output_type": "stream",
          "name": "stdout",
          "text": [
            "Trapezoidal Rule Integral: 0.746211\n",
            "Error: 0.000613\n"
          ]
        }
      ]
    }
  ]
}
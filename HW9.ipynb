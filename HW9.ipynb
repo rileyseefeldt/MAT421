{
  "nbformat": 4,
  "nbformat_minor": 0,
  "metadata": {
    "colab": {
      "provenance": [],
      "authorship_tag": "ABX9TyNObMABGfod6SyleqwZpjb9",
      "include_colab_link": true
    },
    "kernelspec": {
      "name": "python3",
      "display_name": "Python 3"
    },
    "language_info": {
      "name": "python"
    }
  },
  "cells": [
    {
      "cell_type": "markdown",
      "metadata": {
        "id": "view-in-github",
        "colab_type": "text"
      },
      "source": [
        "<a href=\"https://colab.research.google.com/github/rileyseefeldt/MAT421/blob/main/HW9.ipynb\" target=\"_parent\"><img src=\"https://colab.research.google.com/assets/colab-badge.svg\" alt=\"Open In Colab\"/></a>"
      ]
    },
    {
      "cell_type": "markdown",
      "source": [
        "#HW 9. Representation of numbers"
      ],
      "metadata": {
        "id": "dxFY5QburcNS"
      }
    },
    {
      "cell_type": "markdown",
      "source": [
        "##9.1 Base N and Binary"
      ],
      "metadata": {
        "id": "SRrtYDycrj7o"
      }
    },
    {
      "cell_type": "markdown",
      "source": [
        "Key Terms:\n",
        "\n",
        "Base 10 (decimal numbers): Typical number system where every index can be represented by a digit of 0-9, where digit represents a coefiicient for a power of 10. Called base 10 because its based on ten digits\n",
        "\n",
        "Base 2 (binary numbers): Number system where each index is represented by two bits, either 1 or 0, where each digit represents a coeficient for a power of two. Called base 2 because its based on two digits\n",
        "\n",
        "Base 3 - n: Each number system follows the same general structure as decimal and binary numbers. However each digit has a range of 0-n and represents a coefficient for a power of n."
      ],
      "metadata": {
        "id": "LaRYHrUHrnP_"
      }
    },
    {
      "cell_type": "code",
      "source": [
        "#binary code example\n",
        "def binary_to_decimal(number):\n",
        "  return int(number, 2)\n",
        "\n",
        "\n",
        "binary = \"1010100100111\"\n",
        "number = binary_to_decimal(binary)\n",
        "print(f\"The decimal value of {binary} is {number}\")"
      ],
      "metadata": {
        "colab": {
          "base_uri": "https://localhost:8080/"
        },
        "id": "3EaZuF8nsxMS",
        "outputId": "2516085b-e31a-435c-94ac-20afa411fc43"
      },
      "execution_count": 5,
      "outputs": [
        {
          "output_type": "stream",
          "name": "stdout",
          "text": [
            "The decimal value of 1010100100111 is 5415\n"
          ]
        }
      ]
    },
    {
      "cell_type": "markdown",
      "source": [
        "##9.2 Floating Point Numbers"
      ],
      "metadata": {
        "id": "GLbs94KVt8Xd"
      }
    },
    {
      "cell_type": "markdown",
      "source": [
        "Many modern computations require numbers more complex and with a larger range than typical binary numbers. For example, (in their default representation) binary numbers are unable to represent fractions, exponents, and negative numbers. The solution to this problem is Floating Point Numbers, which are typically 64 bit numbers with 1 bit allocated to the sign exponent, 11 allocated to the exponent, and 52 bits allocated to the fraction.\n",
        "\n",
        "\n",
        "A float is represented as (ieee754 standard):\n",
        "\n",
        "![image.png](data:image/png;base64,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)\n",
        "\n",
        "where s represents the signed bit, e represents the exponential bit, and f represents the fraction bit"
      ],
      "metadata": {
        "id": "Ns3q5dU4t-6l"
      }
    },
    {
      "cell_type": "code",
      "execution_count": 24,
      "metadata": {
        "colab": {
          "base_uri": "https://localhost:8080/"
        },
        "id": "tOuFvngvrKR8",
        "outputId": "1ee1d78c-98e9-4f57-ab8d-8bc05fcbf884"
      },
      "outputs": [
        {
          "output_type": "stream",
          "name": "stdout",
          "text": [
            "Binary representation of 5.9123908, 0100000000010111101001100100100111000110000111001010111101100011\n",
            "Coefficients s = 0 e = 1025 f = 0.47809769999999996\n",
            "Plugging this into the float equation reveals the number 5.9123908\n"
          ]
        }
      ],
      "source": [
        "#floating point\n",
        "import numpy as np\n",
        "\n",
        "def float_to_binary(number):\n",
        "  #uses numpy library to convert float to binary representation\n",
        "  return format(np.frombuffer(np.float64(number).tobytes(), dtype=np.uint64)[0], '064b')\n",
        "\n",
        "def binary_to_float(number):\n",
        "  number = int(number, 2)\n",
        "\n",
        "  #gets 64th bit\n",
        "  s = (number >> 63) & 0x1\n",
        "  ##gets next 11 bits\n",
        "  e = (number // (2**52)) % (2**11)\n",
        "  #fetches remaining 52 bits\n",
        "  f = number % (2**52)\n",
        "\n",
        "  #normalizes fraction\n",
        "  f_value = f / (2**52)\n",
        "\n",
        "  return s, e, f_value\n",
        "\n",
        "def to_float(s,e,f):\n",
        "  return ((-1)**s)*(2**(e-1023))*(1+f)\n",
        "\n",
        "number = 5.9123908\n",
        "binary = float_to_binary(number)\n",
        "print(f\"Binary representation of {number}, {binary}\")\n",
        "s,e,f = binary_to_float(binary)\n",
        "print(f\"Coefficients s = {s} e = {e} f = {f}\")\n",
        "number1 = to_float(s,e,f)\n",
        "print(f\"Plugging this into the float equation reveals the number {number1}\")"
      ]
    },
    {
      "cell_type": "markdown",
      "source": [
        "##9.3 Round-off Erros"
      ],
      "metadata": {
        "id": "7kzHCXs81ayq"
      }
    },
    {
      "cell_type": "markdown",
      "source": [
        "Because floats are technically represented as 64bit binary numbers in computers, the entire range of all numbers can't be expressed due to \"round-off\" errors. Therefore every number can't be stored with perfect precision and are approximated up to a certain decimal value. The difference between the approximated and the \"actual\" number is called Round-Off error"
      ],
      "metadata": {
        "id": "Ap1LPp992M_0"
      }
    },
    {
      "cell_type": "code",
      "source": [
        "import numpy as np\n",
        "\n",
        "#round off error demonstration\n",
        "\n",
        "a = 0.1\n",
        "b = 0.2\n",
        "c = 0.3\n",
        "result = a + b\n",
        "print(f\"0.1 + 0.2 = 0.3 {result == c}\")\n",
        "print(f\"Difference {result - c}\")"
      ],
      "metadata": {
        "colab": {
          "base_uri": "https://localhost:8080/"
        },
        "id": "e7pUw7Kj5g00",
        "outputId": "6fe95180-1450-486c-c799-bb164c4a5f1f"
      },
      "execution_count": 26,
      "outputs": [
        {
          "output_type": "stream",
          "name": "stdout",
          "text": [
            "0.1 + 0.2 = 0.3 False\n",
            "Difference 5.551115123125783e-17\n"
          ]
        }
      ]
    }
  ]
}